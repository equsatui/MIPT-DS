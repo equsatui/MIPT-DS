{
 "cells": [
  {
   "cell_type": "markdown",
   "metadata": {},
   "source": [
    "# AB-тестирование\n",
    "## Задание AB.7\n",
    "\n",
    "\n",
    "**Правила:**\n",
    "\n",
    "* Дедлайны см. в боте. После дедлайна работы не принимаются кроме случаев наличия уважительной причины.\n",
    "* Выполненную работу нужно отправить телеграм-боту `@miptstats_ds23_bot`. Для начала работы с ботом каждый раз отправляйте `/start`. **Работы, присланные иным способом, не принимаются.**\n",
    "* Дедлайны см. в боте. После дедлайна работы не принимаются кроме случаев наличия уважительной причины.\n",
    "* Прислать нужно **ноутбук в формате `ipynb`**.\n",
    "* Следите за размером файлов. **Бот не может принимать файлы весом более 20 Мб.** Если файл получается больше, заранее разделите его на несколько.\n",
    "* Выполнять задание необходимо полностью самостоятельно. **При обнаружении списывания все участники списывания будут сдавать устный зачет.**\n",
    "* Решения, размещенные на каких-либо интернет-ресурсах, не принимаются. Кроме того, публикация решения в открытом доступе может быть приравнена к предоставлении возможности списать.\n",
    "* Для выполнения задания используйте этот ноутбук в качестве основы, ничего не удаляя из него. Можно добавлять необходимое количество ячеек.\n",
    "* Комментарии к решению пишите в markdown-ячейках.\n",
    "* Выполнение задания (ход решения, выводы и пр.) должно быть осуществлено на русском языке.\n",
    "* Если код будет не понятен проверяющему, оценка может быть снижена.\n",
    "* Никакой код из данного задания при проверке запускаться не будет. *Если код студента не выполнен, недописан и т.д., то он не оценивается.*\n",
    "* В каждой задаче не забывайте делать **пояснения и выводы**.\n",
    "\n",
    "**Правила оформления теоретических задач:**\n",
    "\n",
    "* Решения необходимо прислать одним из следующих способов:\n",
    "  * фотографией в правильной ориентации, где все четко видно, а почерк разборчив,\n",
    "    * отправив ее как файл боту вместе с ноутбуком *или*\n",
    "    * вставив ее в ноутбук посредством `Edit -> Insert Image` (<font color=\"red\">фото, вставленные ссылкой, не принимаются</font>);\n",
    "  * в виде $\\LaTeX$ в markdown-ячейках.\n",
    "* Решения не проверяются, если какое-то требование не выполнено. Особенно внимательно все проверьте в случае выбора второго пункта (вставки фото в ноутбук). <font color=\"red\"><b>Неправильно вставленные фотографии могут не передаться при отправке.</b></font> Для проверки попробуйте переместить `ipynb` в другую папку и открыть его там.\n",
    "* В решениях поясняйте, чем вы пользуетесь, хотя бы кратко. Например, если пользуетесь независимостью, то достаточно подписи вида \"*X и Y незав.*\"\n",
    "* Решение, в котором есть только ответ, и отсутствуют вычисления, оценивается в 0 баллов.\n",
    "\n",
    "---\n",
    "\n",
    "**Баллы за задание:**\n",
    "\n",
    "* Задача 1 — 40 баллов\n",
    "* Задача 2 — 70 баллов\n",
    "* Задача 3 — 60 баллов\n"
   ]
  },
  {
   "cell_type": "code",
   "execution_count": 1,
   "metadata": {
    "execution": {
     "iopub.execute_input": "2025-03-24T06:10:13.391526Z",
     "iopub.status.busy": "2025-03-24T06:10:13.390445Z",
     "iopub.status.idle": "2025-03-24T06:10:17.182137Z",
     "shell.execute_reply": "2025-03-24T06:10:17.180249Z",
     "shell.execute_reply.started": "2025-03-24T06:10:13.391407Z"
    }
   },
   "outputs": [],
   "source": [
    "import numpy as np\n",
    "import scipy.stats as sps\n",
    "import pandas as pd\n",
    "import matplotlib.pyplot as plt\n",
    "import seaborn as sns\n",
    "from tqdm.auto import tqdm\n",
    "from collections.abc import Iterable\n",
    "from scipy.optimize import curve_fit\n",
    "\n",
    "from statsmodels.stats.proportion import proportion_confint\n",
    "import statsmodels.formula.api as sm\n",
    "\n",
    "import time\n",
    "from IPython.display import clear_output\n",
    "\n",
    "# параллельные вычисления\n",
    "from joblib import Parallel, delayed\n",
    "\n",
    "import warnings\n",
    "\n",
    "warnings.filterwarnings(\"ignore\")\n",
    "# отключает FutureWarning и при параллельном вычислении\n",
    "import os\n",
    "\n",
    "os.environ[\"PYTHONWARNINGS\"] = \"ignore::FutureWarning\"\n",
    "\n",
    "sns.set(palette=\"Set2\", style=\"whitegrid\", font_scale=1.3)"
   ]
  },
  {
   "cell_type": "code",
   "execution_count": 2,
   "metadata": {
    "execution": {
     "iopub.execute_input": "2025-03-24T06:10:17.185118Z",
     "iopub.status.busy": "2025-03-24T06:10:17.184421Z",
     "iopub.status.idle": "2025-03-24T06:10:17.192973Z",
     "shell.execute_reply": "2025-03-24T06:10:17.190974Z",
     "shell.execute_reply.started": "2025-03-24T06:10:17.185068Z"
    }
   },
   "outputs": [],
   "source": [
    "# Bot check\n",
    "\n",
    "# HW_ID: ds_ab7\n",
    "# Бот проверит этот ID и предупредит, если случайно сдать что-то не то.\n",
    "\n",
    "# Status: final\n",
    "# Перед отправкой в финальном решении удали \"not\" в строчке выше.\n",
    "# Так бот проверит, что ты отправляешь финальную версию, а не промежуточную.\n",
    "# Никакие значения в этой ячейке не влияют на факт сдачи работы."
   ]
  },
  {
   "cell_type": "markdown",
   "metadata": {},
   "source": [
    "И снова пррриветик! Перед тобой очередное захватывающее домашнее задание по АБ-тестированию, но на этот раз последнее, потому как следующие будут уже по Causal inference. Возьми чай или кофе, усаживайся поудобнее, настрой музыку в свой ритм, и поехали!\n",
    "\n",
    "*Если какая-то задача кажется сложной, переходи к следующей. Каждая задача практически не зависит от других, может быть только 2-я немного от 1-й.*"
   ]
  },
  {
   "cell_type": "markdown",
   "metadata": {},
   "source": [
    "---\n",
    "\n",
    "### Задача 1.\n",
    "\n",
    "Рассмотрим наблюдательный и cookie-cookie-day подходы. В предположении аддитивности эффектов покажи, что оценки эффекта привыкания $\\widehat{\\delta}_t$ являются несмещенными, а также посчитай их дисперсию.\n",
    "\n",
    "При каком значении количества временных интервалов $T$ в эксперименте дисперсия в наблюдательном подходе становится гарантированно меньше дисперсии в cookie-cookie-day методе?\n",
    "\n",
    "*А ведь это теоретическая задача, где даже ничего кодить не надо, представляешь? Посмотри только ноутбук с лекции, он поможет.*"
   ]
  },
  {
   "cell_type": "markdown",
   "metadata": {},
   "source": [
    "**Прикрепил решение в PDF, если не забыл**"
   ]
  },
  {
   "cell_type": "markdown",
   "metadata": {},
   "source": [
    "---\n",
    "### Задача 2.\n",
    "\n",
    "Теперь давай проведем валидацию по вероятности ошибки 1 рода и мощности критерия для проверки гипотезы об отсутствии эффекта привыкания в момент времени $t$, то есть $\\mathsf{H}_0\\colon \\delta_t = 0$, для наблюдательного и cookie-cookie-day подходов при разных параметрах эффекта. \n",
    "\n",
    "*Помнишь, как называется процедура, которая позволяет сделать оценку требуемых величин? Почти в каждой теме мы ее видели.*\n",
    "\n",
    "Прежде всего определимся, каким критерием будем проверять гипотезу. Можно пойти напрямую и свести к чему-то хорошо известному, а можно воспользоваться результатами первой задачи.\n",
    "\n",
    "*Оба подхода очень простые, верим, ты справишься!*\n",
    "\n",
    "Распиши, каким подходом будешь тестировать\n",
    "\n"
   ]
  },
  {
   "cell_type": "markdown",
   "metadata": {},
   "source": [
    "По результатам предыдущей задачи мы знаем дисперсию наших оценок (по ним строим оценку дисперсии, как всегда, применяя теорему Слуцкого в переходе), еще они несмещенные, поэтому по ним просто строим ассимптотические критерии Вальда (двусторонние, конечно)\n",
    "\n",
    "То есть по стандартной статистике\n",
    "\n",
    "$$T(X, Y) = \\frac{\\hat \\delta_t(X, Y)}{\\hat \\sigma_{\\hat \\delta_t}(X, Y)}$$\n",
    "\n",
    "Сама процедура состоит в многократном применении следующего:\n",
    "\n",
    "1) Сэмплируем $X_{i t j}, Y_{it}$ в случае cookie-cookie-day и $X_{i t}, Y_{it}$ в наблюдательном\n",
    "2) Проверяем критерий\n",
    "\n",
    "Далее оцениваем долю отвержений\n",
    "\n",
    "Для оценки мощности сэмплируем с эффектом"
   ]
  },
  {
   "cell_type": "markdown",
   "metadata": {},
   "source": [
    "Для исследования рассмотри, как минимум, три случая: \n",
    "- эффект привыкания есть;\n",
    "- эффекта привыкания нет, как и прочих зависящих от времени эффектов, возникающих только в экспериментальной выборке;\n",
    "- эффекта привыкания нет, но есть другой эффект, зависящий от времени, возникающий только в экспериментальной выборке, например, недельная сезонность (можно придумать что-то другое).\n",
    "\n",
    "*Кажется, тут опять надо скопировать полотно разных функций, как-то их соединить и модифицировать. Например, генерация данных с эффектом была на последнем занятии.*"
   ]
  },
  {
   "cell_type": "markdown",
   "metadata": {},
   "source": [
    "Константы"
   ]
  },
  {
   "cell_type": "code",
   "execution_count": 3,
   "metadata": {
    "execution": {
     "iopub.execute_input": "2025-03-24T06:10:18.793281Z",
     "iopub.status.busy": "2025-03-24T06:10:18.792749Z",
     "iopub.status.idle": "2025-03-24T06:10:18.806858Z",
     "shell.execute_reply": "2025-03-24T06:10:18.805709Z",
     "shell.execute_reply.started": "2025-03-24T06:10:18.793226Z"
    }
   },
   "outputs": [],
   "source": [
    "num_users = 15000  # количество пользователей\n",
    "period = 14  # длительность эксперимента\n",
    "\n",
    "avg_usage_distr = sps.expon(scale=2000)  # распределение на avg_daily_usage\n",
    "shows_up_distr = sps.bernoulli(p=0.5)  # распределение на shows_up\n",
    "daily_variation_distr = sps.norm(\n",
    "    loc=1, scale=4\n",
    ")  # распределение на daily_variation"
   ]
  },
  {
   "cell_type": "markdown",
   "metadata": {},
   "source": [
    "Код функций"
   ]
  },
  {
   "cell_type": "code",
   "execution_count": 4,
   "metadata": {
    "execution": {
     "iopub.execute_input": "2025-03-24T06:10:23.923248Z",
     "iopub.status.busy": "2025-03-24T06:10:23.921589Z",
     "iopub.status.idle": "2025-03-24T06:10:24.013161Z",
     "shell.execute_reply": "2025-03-24T06:10:24.009637Z",
     "shell.execute_reply.started": "2025-03-24T06:10:23.923063Z"
    }
   },
   "outputs": [],
   "source": [
    "def generate_raw_data(\n",
    "    num_users, period, avg_usage_distr, shows_up_distr, daily_variation_distr\n",
    "):\n",
    "    \"\"\"\n",
    "    Генерирует данные описанным выше способом\n",
    "\n",
    "    - num_users - количество пользователей\n",
    "    - period - длительность эксперимента\n",
    "    - avg_usage_distr - распределения на avg_daily_usage\n",
    "    - shows_up_distr - распределение на shows_up\n",
    "    - daily_variation_distr - распределение на daily_variation\n",
    "\n",
    "    Возвращает\n",
    "        data - DataFrame длины num_users * period\n",
    "    \"\"\"\n",
    "\n",
    "    data = pd.DataFrame(range(num_users), columns=[\"user_id\"])\n",
    "    data[\"avg_daily_usage\"] = avg_usage_distr.rvs(size=num_users)\n",
    "\n",
    "    data[\"day\"] = [range(period) for _ in range(num_users)]\n",
    "    data = data.explode(\"day\")\n",
    "    data[\"day\"] = data[\"day\"].astype(int)\n",
    "\n",
    "    data[\"shows_up\"] = shows_up_distr.rvs(size=num_users * period)\n",
    "    data[\"daily_variation\"] = daily_variation_distr.rvs(size=num_users * period)\n",
    "\n",
    "    data[\"daily_usage\"] = (\n",
    "        data[\"avg_daily_usage\"] * data[\"shows_up\"] * data[\"daily_variation\"]\n",
    "    )\n",
    "    data.loc[data[\"daily_usage\"] <= 0, \"daily_usage\"] = 0\n",
    "\n",
    "    return data\n",
    "\n",
    "def get_exponential_model(mode):\n",
    "    \"\"\"\n",
    "    Возвращает функцию для моделирования эффекта mode (novelty или primacy)\n",
    "    \"\"\"\n",
    "\n",
    "    assert mode in [\"novelty\", \"primacy\"]\n",
    "\n",
    "    def novelty_model(day, theta, gamma):\n",
    "        return np.exp(-day * gamma) * theta\n",
    "\n",
    "    def primacy_model(day, theta, gamma):\n",
    "        return (1 - np.exp(-day * gamma)) * theta\n",
    "\n",
    "    if mode == \"novelty\":\n",
    "        return novelty_model\n",
    "    else:\n",
    "        return primacy_model\n",
    "\n",
    "\n",
    "def split_groups(data, cnt_groups, target_column=\"group\"):\n",
    "    \"\"\"\n",
    "    Добавляет столбец target_column с номерами групп пользователей в data\n",
    "\n",
    "    - data - DataFrame с данными\n",
    "    - cnt_groups - количесто групп, на которые надо поделить пользователей\n",
    "    - target_column - имя колонки с номером группы\n",
    "    \"\"\"\n",
    "\n",
    "    users = data[\"user_id\"].unique()\n",
    "    np.random.shuffle(users)\n",
    "\n",
    "    data[target_column] = 0\n",
    "\n",
    "    for group in range(cnt_groups):\n",
    "        group_idxs = data[\"user_id\"].isin(users[group::cnt_groups])\n",
    "        data.loc[group_idxs, target_column] = group\n",
    "\n",
    "\n",
    "def add_effect(\n",
    "    data,\n",
    "    group,\n",
    "    theta,\n",
    "    gamma,\n",
    "    scale,\n",
    "    const_effect=0,\n",
    "    mode=\"novelty\",\n",
    "    start_day=0,\n",
    "    post_period_start=None,\n",
    "    post_gamma=None,\n",
    "    group_column=\"group\",\n",
    "    target_column=\"daily_usage\",\n",
    "):\n",
    "    \"\"\"\n",
    "    Добавляет эффект в столбец column из распределения\n",
    "        N(theta * exp(-gamma * t), scale^2) в случае mode == 'novelty'\n",
    "        N(theta * (1 - exp(-gamma * t)), scale^2) в случае mode == 'primacy'\n",
    "\n",
    "    - data - DataFrame с данными\n",
    "    - group - группа пользователей, к которым надо добавить эффект\n",
    "    - theta, gamma, scale - вышеописанные параметры эффекта\n",
    "    - const_effect - постоянный эффект от влияния эксперимента\n",
    "    - mode - определяет природу эффекта: novelty или primacy\n",
    "    - start_day - номер дня старта эксперимента\n",
    "    - post_period_start - номер дня старта post period при наличии этого периода\n",
    "                          (для случая mode == primacy)\n",
    "    - post_gamma - скорость отвыкания в post period (по умолчанию = gamma)\n",
    "    - group_column - колонка с группами\n",
    "    - target_column - колонка, к которой добавляется эффект\n",
    "    \"\"\"\n",
    "\n",
    "    assert mode in [\"novelty\", \"primacy\"]\n",
    "    assert not (mode == \"novelty\" and post_period_start is not None)\n",
    "    if post_gamma is None:\n",
    "        post_gamma = gamma\n",
    "\n",
    "    # Выбираем индексы нужной группы\n",
    "    idxs = (data[group_column] == group) & (data[\"day\"] >= start_day)\n",
    "\n",
    "    experiment_durations = data.loc[idxs, \"day\"] - start_day\n",
    "\n",
    "    # Моделируем эффект\n",
    "    model = get_exponential_model(mode=mode)\n",
    "    mean = model(experiment_durations, theta, gamma) + const_effect\n",
    "\n",
    "    # Если эффект primacy и передан момент старта постпериода,\n",
    "    # то в нем привыкание заменяем отвыканием\n",
    "    if mode == \"primacy\" and post_period_start is not None:\n",
    "        # Вычисляем theta' - эффект на момент перед началом post-period\n",
    "        last_le = model(post_period_start - start_day, theta, gamma)\n",
    "\n",
    "        # Отвыкание моделируется той же функцией, что и эффект новизны\n",
    "        unlearning_model = get_exponential_model(mode=\"novelty\")\n",
    "\n",
    "        # Заменяем привыкание отвыканием\n",
    "        post_period_idxs = experiment_durations >= post_period_start - start_day\n",
    "        days_from_start = experiment_durations[post_period_idxs] - (\n",
    "            post_period_start - start_day\n",
    "        )\n",
    "        mean[post_period_idxs] = unlearning_model(\n",
    "            days_from_start, last_le, post_gamma\n",
    "        )\n",
    "\n",
    "    # Генерируем шум и добавляем его с эффектом к данным\n",
    "    noise = sps.norm(loc=0, scale=scale).rvs(len(mean))\n",
    "    data.loc[idxs, target_column] += mean + noise\n",
    "\n",
    "\n",
    "def prepare_data_obs_exp(\n",
    "    data,\n",
    "    theta,\n",
    "    gamma,\n",
    "    scale,\n",
    "    const_effect=0,\n",
    "    start_day=0,\n",
    "    mode=\"novelty\",\n",
    "    group_column=\"group\",\n",
    "    target_column=\"daily_usage\",\n",
    "):\n",
    "    \"\"\"\n",
    "    Готовит данные для наблюдательного подхода\n",
    "    Делит пользователей на две группы, к одной в равных пропорциях добавляет\n",
    "        эффект с параметрами из theta, gamma, scale\n",
    "\n",
    "    - data - DataFrame с данными\n",
    "    - theta, gamma, scale - вышеописанные параметры эффекта\n",
    "                            (можно передавать листы параметров)\n",
    "    - const_effect - постоянный эффект от влияния эксперимента\n",
    "    - start_day - номер дня старта эксперимента\n",
    "    - group_column - колонка с группами\n",
    "    - target_column - колонка, к которой добавляется эффект\n",
    "    \"\"\"\n",
    "\n",
    "    if not isinstance(theta, Iterable):\n",
    "        theta = [theta]\n",
    "        gamma = [gamma]\n",
    "        scale = [scale]\n",
    "    assert len(theta) == len(gamma) == len(scale)\n",
    "\n",
    "    # Делим на группы: 2 выборки и каждую выборку еще на num_parts частей,\n",
    "    # чтобы к каждой добавить эффект со своими параметрами\n",
    "    num_parts = len(theta)\n",
    "    split_groups(data, cnt_groups=2 * num_parts, target_column=group_column)\n",
    "    for i, (t, g, s) in enumerate(zip(theta, gamma, scale)):\n",
    "        # Добавляем эффект\n",
    "        add_effect(\n",
    "            data,\n",
    "            group=i,\n",
    "            theta=t,\n",
    "            gamma=g,\n",
    "            scale=s,\n",
    "            const_effect=const_effect,\n",
    "            mode=mode,\n",
    "            start_day=start_day,\n",
    "            group_column=group_column,\n",
    "            target_column=target_column,\n",
    "        )\n",
    "\n",
    "    # Объединяем группы в выборки\n",
    "    data.loc[data[group_column] < num_parts, group_column] = 0\n",
    "    data.loc[data[group_column] >= num_parts, group_column] = 1\n",
    "\n",
    "\n",
    "def prepare_data_ccd_exp(\n",
    "    data,\n",
    "    theta,\n",
    "    gamma,\n",
    "    scale,\n",
    "    const_effect=0,\n",
    "    start_day=0,\n",
    "    period=period,\n",
    "    mode=\"novelty\",\n",
    "    group_column=\"group\",\n",
    "    target_column=\"daily_usage\",\n",
    "):\n",
    "    \"\"\"\n",
    "    Готовит данные для cookie-cookie-day подхода\n",
    "    Делит пользователей на выборки в количестве равном длине эксперимента:\n",
    "        i-ая выборка начинает получать эффект с i-ого дня\n",
    "\n",
    "    - data - DataFrame с данными\n",
    "    - theta, gamma, scale - вышеописанные параметры эффекта (list или число)\n",
    "    - const_effect - постоянный эффект от влияния эксперимента\n",
    "    - start_day - номер дня старта эксперимента\n",
    "    - period - длительность эксперимента (задает количество выборок)\n",
    "    - group_column - колонка с группами\n",
    "    - target_column - колонка, к которой добавляется эффект\n",
    "    \"\"\"\n",
    "\n",
    "    if not isinstance(theta, Iterable):\n",
    "        theta = [theta]\n",
    "        gamma = [gamma]\n",
    "        scale = [scale]\n",
    "    assert len(theta) == len(gamma) == len(scale)\n",
    "\n",
    "    # Как и в предыдущей функции делим на period * num_parts частей:\n",
    "    # period выборок и каждую выборку на num_parts частей\n",
    "    num_parts = len(theta)\n",
    "    split_groups(\n",
    "        data, cnt_groups=period * num_parts, target_column=group_column\n",
    "    )\n",
    "    for sample_index in range(period):\n",
    "        for i, (t, g, s) in enumerate(zip(theta, gamma, scale)):\n",
    "            group = sample_index * num_parts + i\n",
    "\n",
    "            # Добавляем эффект\n",
    "            add_effect(\n",
    "                data,\n",
    "                group=group,\n",
    "                theta=t,\n",
    "                gamma=g,\n",
    "                scale=s,\n",
    "                const_effect=const_effect,\n",
    "                mode=mode,\n",
    "                start_day=sample_index + start_day,\n",
    "                group_column=group_column,\n",
    "                target_column=target_column,\n",
    "            )\n",
    "\n",
    "        # Объединяем в выборку\n",
    "        idxs = (data[group_column] >= sample_index * num_parts) & (\n",
    "            data[group_column] < (sample_index + 1) * num_parts\n",
    "        )\n",
    "        data.loc[idxs, group_column] = sample_index\n",
    "\n"
   ]
  },
  {
   "cell_type": "markdown",
   "metadata": {},
   "source": [
    "Экспы"
   ]
  },
  {
   "cell_type": "code",
   "execution_count": 7,
   "metadata": {
    "execution": {
     "iopub.execute_input": "2025-03-24T06:11:35.667099Z",
     "iopub.status.busy": "2025-03-24T06:11:35.665964Z",
     "iopub.status.idle": "2025-03-24T06:11:35.699347Z",
     "shell.execute_reply": "2025-03-24T06:11:35.695964Z",
     "shell.execute_reply.started": "2025-03-24T06:11:35.667000Z"
    },
    "scrolled": true
   },
   "outputs": [],
   "source": [
    "def estimate_reject_prob(n_rejects, n_iter):\n",
    "    \"\"\"\n",
    "    Оценка вероятности отвержения критерия и ее дов. интервала.\n",
    "    Используется для оценки вероятности ошибки первого рода и мощности\n",
    "\n",
    "    Аргументы:\n",
    "    n_rejects -- количество отвержений H_0 в эксперименте\n",
    "    n_iter -- количество экспериментов\n",
    "\n",
    "    Возвращает:\n",
    "    prob_reject -- оценка вероятности отвержения критерия\n",
    "    left_bound, right_bound -- границы соотв. дов. интервала\n",
    "    \"\"\"\n",
    "\n",
    "    prob_reject = n_rejects / n_iter\n",
    "    left_bound, right_bound = proportion_confint(\n",
    "        n_rejects, n_iter, method=\"wilson\"\n",
    "    )\n",
    "\n",
    "    return prob_reject, left_bound, right_bound\n",
    "\n",
    "\n",
    "def visualization(\n",
    "    prob_reject,\n",
    "    left_bound,\n",
    "    right_bound,\n",
    "    show_pvals=False,\n",
    "    pvals=None,\n",
    "    alpha=0.05,\n",
    "    figsize=(7, 2),\n",
    "    title=None,\n",
    "):\n",
    "    \"\"\"\n",
    "    Отрисовка интервала для вероятности отвержения критерия\n",
    "    и гистограммы p-value (опционально)\n",
    "\n",
    "    prob_reject -- оценка вероятности отвержения\n",
    "    left_bound, right_bound -- границы доверительного интервала\n",
    "    alpha -- теор вероятность ошибки первого рода\n",
    "    show_pvals -- показывать ли распределение p-value\n",
    "    pvals -- массив из p-value\n",
    "    figsize -- размер фигуры matplotlib\n",
    "    \"\"\"\n",
    "\n",
    "    # построение гистограммы p-value (опционально)\n",
    "    if show_pvals:\n",
    "        with sns.axes_style(\"whitegrid\"):\n",
    "            plt.figure(figsize=figsize)\n",
    "            plt.subplot(1, 2, 1)\n",
    "            plt.hist(\n",
    "                pvals,\n",
    "                bins=np.linspace(0, 1, 21),\n",
    "                alpha=0.7,\n",
    "                weights=np.ones(len(pvals)) / len(pvals),\n",
    "            )\n",
    "            plt.title(\"Распределение p-value\")\n",
    "\n",
    "    # отрисовка интервала для вероятности отвержения критерия\n",
    "    with sns.axes_style(\"whitegrid\"):\n",
    "        if show_pvals:\n",
    "            plt.subplot(1, 2, 2)\n",
    "        else:\n",
    "            plt.figure(figsize=figsize)\n",
    "        plt.hlines(0, 0, 1, color=\"black\", lw=2, alpha=0.6)\n",
    "        plt.vlines(alpha, -1, 1, color=\"red\", lw=5, linestyle=\"--\", alpha=0.6)\n",
    "        plt.fill_between(\n",
    "            [left_bound, right_bound],\n",
    "            [0.15] * 2,\n",
    "            [-0.15] * 2,\n",
    "            color=\"green\",\n",
    "            alpha=0.6,\n",
    "        )\n",
    "        plt.scatter(prob_reject, 0, s=300, marker=\"*\", color=\"red\")\n",
    "        plt.xlim(\n",
    "            (min(alpha, left_bound) - 1e-3, max(alpha, right_bound) + 1e-3)\n",
    "        )\n",
    "        plt.title(\n",
    "            f\"Доля отвержений = {100*prob_reject:.2f}%, \"\n",
    "            f\"интервал ({100*left_bound:.2f}%, {100*right_bound:.2f}%)\"\n",
    "        )\n",
    "        plt.suptitle(title)\n",
    "        plt.ylim((-0.5, 0.5))\n",
    "        plt.yticks([])\n",
    "        plt.tight_layout()\n",
    "        plt.show()\n"
   ]
  },
  {
   "cell_type": "markdown",
   "metadata": {},
   "source": [
    "Реализация тестов"
   ]
  },
  {
   "cell_type": "code",
   "execution_count": 9,
   "metadata": {
    "execution": {
     "iopub.execute_input": "2025-03-24T06:16:47.913442Z",
     "iopub.status.busy": "2025-03-24T06:16:47.912414Z",
     "iopub.status.idle": "2025-03-24T06:16:47.944289Z",
     "shell.execute_reply": "2025-03-24T06:16:47.941376Z",
     "shell.execute_reply.started": "2025-03-24T06:16:47.913358Z"
    }
   },
   "outputs": [],
   "source": [
    "def estimate_variance_and_correlation(data, t):\n",
    "    grouped = data.groupby('user_id')['daily_usage']\n",
    "    \n",
    "    first_day = grouped.first().values\n",
    "    t_day = grouped.nth(t).values\n",
    "    \n",
    "    mask = ~np.isnan(first_day) & ~np.isnan(t_day)\n",
    "    first_day = first_day[mask]\n",
    "    t_day = t_day[mask]\n",
    "    \n",
    "    sigma2 = np.var(np.concatenate([first_day, t_day]), ddof=0)\n",
    "    rho = np.corrcoef(first_day, t_day)[0, 1]\n",
    "    \n",
    "    return sigma2, rho\n",
    "\n",
    "def test_observational(data, t):\n",
    "    sigma2, rho = estimate_variance_and_correlation(data, t)\n",
    "    control = data[data['group'] == 0]\n",
    "    exp = data[data['group'] == 1]\n",
    "    \n",
    "    control_day1 = control[control['day'] == 0]['daily_usage'].mean()\n",
    "    control_dayt = control[control['day'] == t]['daily_usage'].mean()\n",
    "    \n",
    "    exp_day1 = exp[exp['day'] == 0]['daily_usage'].mean()\n",
    "    exp_dayt = exp[exp['day'] == t]['daily_usage'].mean()\n",
    "    \n",
    "    delta = (exp_dayt - exp_day1) - (control_dayt - control_day1)\n",
    "    \n",
    "    n = n_users // 2\n",
    "    var_delta = 8 * (1 - rho) * sigma2 / n\n",
    "    se = np.sqrt(var_delta)\n",
    "    \n",
    "    z = delta / se\n",
    "    p_value = 2 * (1 - sps.norm.cdf(abs(z)))\n",
    "    return p_value\n",
    "\n",
    "def test_ccd(data, t):\n",
    "    sigma2, _ = estimate_variance_and_correlation(data, t)\n",
    "    \n",
    "    exp_mean = data[(data['group'] == 0) & (data['day'] == t)]['daily_usage'].mean()\n",
    "    control_mean = data[(data['group'] == t) & (data['day'] == t)]['daily_usage'].mean()\n",
    "    delta = exp_mean - control_mean\n",
    "    \n",
    "    n = n_users // (period + 1)\n",
    "    var_delta = 2 * sigma2 / n\n",
    "    se = np.sqrt(var_delta)\n",
    "    \n",
    "    z = delta / se\n",
    "    p_value = 2 * (1 - sps.norm.cdf(abs(z)))\n",
    "    return p_value\n"
   ]
  },
  {
   "cell_type": "markdown",
   "metadata": {},
   "source": [
    "Пример кода"
   ]
  },
  {
   "cell_type": "code",
   "execution_count": 10,
   "metadata": {
    "execution": {
     "iopub.execute_input": "2025-03-24T06:16:54.433743Z",
     "iopub.status.busy": "2025-03-24T06:16:54.432923Z",
     "iopub.status.idle": "2025-03-24T06:19:13.869332Z",
     "shell.execute_reply": "2025-03-24T06:19:13.868225Z",
     "shell.execute_reply.started": "2025-03-24T06:16:54.433664Z"
    }
   },
   "outputs": [
    {
     "name": "stdout",
     "output_type": "stream",
     "text": [
      "Сценарий: 0_no_effect_(AA)\n"
     ]
    },
    {
     "data": {
      "application/vnd.jupyter.widget-view+json": {
       "model_id": "3a510ae2cb094cf3bfaadcdec7d86084",
       "version_major": 2,
       "version_minor": 0
      },
      "text/plain": [
       "  0%|          | 0/100 [00:00<?, ?it/s]"
      ]
     },
     "metadata": {},
     "output_type": "display_data"
    },
    {
     "name": "stdout",
     "output_type": "stream",
     "text": [
      "Сценарий: 1_const_effect\n"
     ]
    },
    {
     "data": {
      "application/vnd.jupyter.widget-view+json": {
       "model_id": "75d362c4101f45518e6841c490264b52",
       "version_major": 2,
       "version_minor": 0
      },
      "text/plain": [
       "  0%|          | 0/100 [00:00<?, ?it/s]"
      ]
     },
     "metadata": {},
     "output_type": "display_data"
    },
    {
     "name": "stdout",
     "output_type": "stream",
     "text": [
      "Сценарий: 2_novelty_effect\n"
     ]
    },
    {
     "data": {
      "application/vnd.jupyter.widget-view+json": {
       "model_id": "a8dd8d94e02649f2a188e976ff001c4e",
       "version_major": 2,
       "version_minor": 0
      },
      "text/plain": [
       "  0%|          | 0/100 [00:00<?, ?it/s]"
      ]
     },
     "metadata": {},
     "output_type": "display_data"
    },
    {
     "name": "stdout",
     "output_type": "stream",
     "text": [
      "Сценарий: 3_weekend_const_effect\n"
     ]
    },
    {
     "data": {
      "application/vnd.jupyter.widget-view+json": {
       "model_id": "082beadf146f46958159b210ad988ec1",
       "version_major": 2,
       "version_minor": 0
      },
      "text/plain": [
       "  0%|          | 0/100 [00:00<?, ?it/s]"
      ]
     },
     "metadata": {},
     "output_type": "display_data"
    },
    {
     "name": "stdout",
     "output_type": "stream",
     "text": [
      "\n",
      "Результаты для сценария 0_no_effect_(AA):\n",
      "Наблюдательный подход: 0.010 [0.002, 0.054]\n",
      "Cookie-Cookie-Day: 0.160 [0.101, 0.244]\n",
      "\n",
      "Результаты для сценария 1_const_effect:\n",
      "Наблюдательный подход: 0.000 [0.000, 0.037]\n",
      "Cookie-Cookie-Day: 0.140 [0.085, 0.221]\n",
      "\n",
      "Результаты для сценария 2_novelty_effect:\n",
      "Наблюдательный подход: 0.020 [0.006, 0.070]\n",
      "Cookie-Cookie-Day: 0.160 [0.101, 0.244]\n",
      "\n",
      "Результаты для сценария 3_weekend_const_effect:\n",
      "Наблюдательный подход: 1.000 [0.963, 1.000]\n",
      "Cookie-Cookie-Day: 0.090 [0.048, 0.162]\n"
     ]
    }
   ],
   "source": [
    "n_iter = 100\n",
    "n_users = 15000\n",
    "alpha = 0.05\n",
    "\n",
    "period = 7\n",
    "weekend_days = [5, 6, 12, 13]\n",
    "\n",
    "scenarios = {\n",
    "    '0_no_effect_(AA)': {'scale': 1, 'theta': 0,\n",
    "                         'gamma': 0, 'mode': 'novelty', 'const_effect': 0},\n",
    "    '1_const_effect': {'scale': 1, 'theta': 0,\n",
    "                       'gamma': 0, 'mode': 'novelty', 'const_effect': 1e3},\n",
    "    '2_novelty_effect': {'scale': 1, 'theta': 1e1,\n",
    "                         'gamma': 0.2, 'mode': 'novelty', 'const_effect': 0},\n",
    "    '3_weekend_const_effect': {'scale': 1, 'theta': 0.1,\n",
    "                               'gamma': 0.1, 'mode': 'novelty',\n",
    "                               'const_effect': 1e3}\n",
    "}\n",
    "\n",
    "results = {}\n",
    "\n",
    "for scenario_name in scenarios:\n",
    "    print(f\"Сценарий: {scenario_name}\")\n",
    "    params = scenarios[scenario_name]\n",
    "    \n",
    "    reject_obs = 0\n",
    "    reject_ccd = 0\n",
    "    \n",
    "    for _ in tqdm(range(n_iter)):\n",
    "        data_obs = generate_raw_data(n_users,\n",
    "                                    period=period,\n",
    "                                    avg_usage_distr=sps.expon(scale=2000),\n",
    "                                    shows_up_distr=sps.bernoulli(0.5),\n",
    "                                    daily_variation_distr=sps.norm(loc=1, scale=0.1))\n",
    "        \n",
    "        data_ccd = generate_raw_data(n_users,\n",
    "                                     period=period,\n",
    "                                     avg_usage_distr=sps.expon(scale=2000),\n",
    "                                     shows_up_distr=sps.bernoulli(0.5),\n",
    "                                     daily_variation_distr=sps.norm(loc=1, scale=0.1))\n",
    "        \n",
    "        if scenario_name == '3_weekend_const_effect':\n",
    "            weekend_data_obs = data_obs[data_obs['day'].isin(weekend_days)].copy()\n",
    "            prepare_data_obs_exp(weekend_data_obs, **params)\n",
    "            weekdays_data_obs = data_obs[~data_obs['day'].isin(weekend_days)].copy()\n",
    "            prepare_data_obs_exp(weekdays_data_obs, theta=0, gamma=0, scale=1, mode='novelty')\n",
    "            data_obs = pd.concat([weekdays_data_obs, weekend_data_obs])\n",
    "            \n",
    "            weekend_data_ccd = data_ccd[data_ccd['day'].isin(weekend_days)].copy()\n",
    "            prepare_data_ccd_exp(weekend_data_ccd, **params)\n",
    "            weekdays_data_ccd = data_ccd[~data_ccd['day'].isin(weekend_days)].copy()\n",
    "            prepare_data_ccd_exp(weekdays_data_ccd, theta=0, gamma=0, scale=1, mode='novelty')\n",
    "            data_ccd = pd.concat([weekdays_data_ccd, weekend_data_ccd])\n",
    "        else:\n",
    "            prepare_data_obs_exp(data_obs, **params)\n",
    "            prepare_data_ccd_exp(data_ccd, **params)\n",
    "        \n",
    "        p_obs = test_observational(data_obs, period-1)\n",
    "        if p_obs < alpha:\n",
    "            reject_obs += 1\n",
    "        \n",
    "        p_ccd = test_ccd(data_ccd, period-1)\n",
    "        if p_ccd < alpha:\n",
    "            reject_ccd += 1\n",
    "    \n",
    "    prob_obs, l_obs, r_obs = estimate_reject_prob(reject_obs, n_iter)\n",
    "    prob_ccd, l_ccd, r_ccd = estimate_reject_prob(reject_ccd, n_iter)\n",
    "    \n",
    "    results[scenario_name] = {\n",
    "        'observational': (prob_obs, l_obs, r_obs),\n",
    "        'cookie-cookie-day': (prob_ccd, l_ccd, r_ccd)\n",
    "    }\n",
    "\n",
    "for scenario in results:\n",
    "    print(f\"\\nРезультаты для сценария {scenario}:\")\n",
    "    print(f\"Наблюдательный подход: {results[scenario]['observational'][0]:.3f} [{results[scenario]['observational'][1]:.3f}, {results[scenario]['observational'][2]:.3f}]\")\n",
    "    print(f\"Cookie-Cookie-Day: {results[scenario]['cookie-cookie-day'][0]:.3f} [{results[scenario]['cookie-cookie-day'][1]:.3f}, {results[scenario]['cookie-cookie-day'][2]:.3f}]\")"
   ]
  },
  {
   "cell_type": "markdown",
   "metadata": {},
   "source": [
    "Тут, конечно, без графика, но зато напечатал ДИ и точечное оценивание мощности (ошибки первого рода). Все как и ожидалось\n",
    "\n",
    "Последний день выпадает на выходной -> observational тоже детектит различия"
   ]
  },
  {
   "cell_type": "code",
   "execution_count": 128,
   "metadata": {},
   "outputs": [
    {
     "data": {
      "application/vnd.jupyter.widget-view+json": {
       "model_id": "",
       "version_major": 2,
       "version_minor": 0
      },
      "text/plain": [
       "  0%|          | 0/100 [00:00<?, ?it/s]"
      ]
     },
     "metadata": {},
     "output_type": "display_data"
    },
    {
     "data": {
      "application/vnd.jupyter.widget-view+json": {
       "model_id": "",
       "version_major": 2,
       "version_minor": 0
      },
      "text/plain": [
       "  0%|          | 0/100 [00:00<?, ?it/s]"
      ]
     },
     "metadata": {},
     "output_type": "display_data"
    },
    {
     "data": {
      "application/vnd.jupyter.widget-view+json": {
       "model_id": "",
       "version_major": 2,
       "version_minor": 0
      },
      "text/plain": [
       "  0%|          | 0/100 [00:00<?, ?it/s]"
      ]
     },
     "metadata": {},
     "output_type": "display_data"
    },
    {
     "data": {
      "application/vnd.jupyter.widget-view+json": {
       "model_id": "",
       "version_major": 2,
       "version_minor": 0
      },
      "text/plain": [
       "  0%|          | 0/100 [00:00<?, ?it/s]"
      ]
     },
     "metadata": {},
     "output_type": "display_data"
    },
    {
     "data": {
      "application/vnd.jupyter.widget-view+json": {
       "model_id": "",
       "version_major": 2,
       "version_minor": 0
      },
      "text/plain": [
       "  0%|          | 0/100 [00:00<?, ?it/s]"
      ]
     },
     "metadata": {},
     "output_type": "display_data"
    },
    {
     "data": {
      "image/png": "[encoded data removed]",
      "text/plain": [
       "<Figure size 1000x600 with 1 Axes>"
      ]
     },
     "metadata": {},
     "output_type": "display_data"
    }
   ],
   "source": [
    "n_iter = 100\n",
    "n_users = 15000\n",
    "alpha = 0.05\n",
    "\n",
    "scenario = {'scale': 1, 'gamma': 0.1, 'mode': 'novelty', 'const_effect': 0}\n",
    "\n",
    "theta_effects = np.linspace(0, 100, 5) \n",
    "\n",
    "powers_obs = []\n",
    "powers_ccd = []\n",
    "\n",
    "for theta_effect in theta_effects:\n",
    "    scenario['theta'] = theta_effect\n",
    "    \n",
    "    reject_obs = 0\n",
    "    reject_ccd = 0\n",
    "    \n",
    "    for _ in tqdm(range(n_iter), leave=False):\n",
    "        data_obs = generate_raw_data(n_users,\n",
    "                                    period=period,\n",
    "                                    avg_usage_distr=sps.expon(scale=2000),\n",
    "                                    shows_up_distr=sps.bernoulli(0.5),\n",
    "                                    daily_variation_distr=sps.norm(loc=1, scale=0.1))\n",
    "        \n",
    "        data_ccd = generate_raw_data(n_users,\n",
    "                                     period=period,\n",
    "                                     avg_usage_distr=sps.expon(scale=2000),\n",
    "                                     shows_up_distr=sps.bernoulli(0.5),\n",
    "                                     daily_variation_distr=sps.norm(loc=1, scale=0.1))\n",
    "        \n",
    "        prepare_data_obs_exp(data_obs, **scenario)\n",
    "        prepare_data_ccd_exp(data_ccd, **scenario)\n",
    "        \n",
    "        p_obs = test_observational(data_obs, period-1)\n",
    "        if p_obs < alpha:\n",
    "            reject_obs += 1\n",
    "        \n",
    "        p_ccd = test_ccd(data_ccd, period-1)\n",
    "        if p_ccd < alpha:\n",
    "            reject_ccd += 1\n",
    "    \n",
    "    prob_obs, _, _ = estimate_reject_prob(reject_obs, n_iter)\n",
    "    prob_ccd, _, _ = estimate_reject_prob(reject_ccd, n_iter)\n",
    "    \n",
    "    powers_obs.append(prob_obs)\n",
    "    powers_ccd.append(prob_ccd)\n",
    "\n",
    "plt.figure(figsize=(10, 6))\n",
    "plt.plot(theta_effects, powers_obs, label='Наблюдательный подход', marker='o')\n",
    "plt.plot(theta_effects, powers_ccd, label='Cookie-Cookie-Day', marker='s')\n",
    "plt.xlabel('const_effect')\n",
    "plt.ylabel('Мощность критерия')\n",
    "plt.title('Мощность критерия в зависимости от const_effect')\n",
    "plt.legend()\n",
    "plt.grid(True)\n",
    "plt.show()"
   ]
  },
  {
   "cell_type": "markdown",
   "metadata": {},
   "source": [
    "*Вот и закончилась первая практическая задача. Правда же все просто если разобраться в имеющихся функциях? :)*"
   ]
  },
  {
   "cell_type": "markdown",
   "metadata": {},
   "source": [
    "Получили что и хотели. Критерии корректные; ccd лучше по мощности словил непостоянный эффект \n",
    "\n",
    "ССD в целом в простой реализации вариантов изменения данных показывал большую мощность (по табличке)-> это согласуется с графиком "
   ]
  },
  {
   "cell_type": "markdown",
   "metadata": {},
   "source": [
    "---\n",
    "### Задача 3.\n",
    "\n",
    "*Так так, дай угадаю, ты уже посмотрел(а), что в задаче 6 пунктов? Не спеши расстраиваться и пропускать задачу! Одна довольно простая и увлекательная, в ней подробно расписано, что надо сделать. Вроде даже долгих вычислений и сложных функций тут нет. Так что, го!*\n",
    "\n",
    "Наконец, давай сравним наш обычный t-test c критерием Вальда в последовательном анализе. На занятии мы уже начали их сравнивать. Возьми используемые там параметры, и убедись, что ты используешь одни и те же гипотезы и одинаковые значения вероятностей ошибок 1 и 2 рода. Формально, в случае t-test надо рассмотреть только простую альтернативу $\\mathsf{H}_1\\colon a=a_1$ и рассматривать мощность для нее, что мы и сделали на занятии."
   ]
  },
  {
   "cell_type": "markdown",
   "metadata": {},
   "source": [
    "**1.** Предположим, что $\\mathsf{H}_0$ верна. Оцени время до принятия решения в последовательном анализе с помощью семплирования и по теоретической формуле.\n",
    "\n",
    "*Не забудь, что возможные ответы в последовательном анализе несколько отличаются от стандартного подхода, причем имеется симметрия. Если ты это понимаешь, то сможешь легко решить данный пункт на основе предыдущих.*"
   ]
  },
  {
   "cell_type": "markdown",
   "metadata": {},
   "source": [
    "Функции"
   ]
  },
  {
   "cell_type": "code",
   "execution_count": 24,
   "metadata": {
    "execution": {
     "iopub.execute_input": "2025-03-24T10:05:03.125516Z",
     "iopub.status.busy": "2025-03-24T10:05:03.122887Z",
     "iopub.status.idle": "2025-03-24T10:05:03.176493Z",
     "shell.execute_reply": "2025-03-24T10:05:03.173561Z",
     "shell.execute_reply.started": "2025-03-24T10:05:03.125376Z"
    }
   },
   "outputs": [],
   "source": [
    "def calculate_stat(sample, logpdf_0, logpdf_1, cumulative=False):\n",
    "    \"\"\"\n",
    "    Вычисление статистики критерия.\n",
    "\n",
    "    sample - выборка\n",
    "    logpdf_0 - функция вычисления логарифма плотности при H_0\n",
    "    logpdf_1 - функция вычисления логарифма плотности при H_1\n",
    "    cumulative - вернуть ли кумулятивную статистику или же только итоговую\n",
    "    \"\"\"\n",
    "    \n",
    "    z_stats = logpdf_1(sample) - logpdf_0(sample)\n",
    "    if cumulative:\n",
    "        return np.cumsum(z_stats, axis=-1)\n",
    "    else:\n",
    "        return np.sum(z_stats, axis=-1)\n",
    "\n",
    "def sequential_wald(samples, logpdf_0, logpdf_1, A, B, return_z=False):\n",
    "    \"\"\"\n",
    "    Реализация последовательного критерия Вальда для исторических данных.\n",
    "\n",
    "    sample - выборка\n",
    "    logpdf_0 - функция вычисления логарифма плотности при H_0\n",
    "    logpdf_1 - функция вычисления логарифма плотности при H_1\n",
    "    A, B -- пороги\n",
    "    return_z -- возвращать ли Z-статистики\n",
    "    \"\"\"\n",
    "\n",
    "    z_stats = calculate_stat(samples, logpdf_0, logpdf_1, cumulative=True)\n",
    "\n",
    "    # Текущий знак решения\n",
    "    signs = (\n",
    "        (z_stats >= np.log(B)).astype(int)\n",
    "        - (z_stats <= np.log(A)).astype(int)\n",
    "    )\n",
    "\n",
    "    # Ищем первое ненулевое решение\n",
    "    stop_time, decision = first_nonzero(signs)\n",
    "    # Если такого нет, то мы не дошли до остановки, поставим максимальное время\n",
    "    stop_time[decision == 0] = samples.shape[1]\n",
    "\n",
    "    if return_z:\n",
    "        return stop_time + 1, decision, z_stats\n",
    "    else:\n",
    "        return stop_time + 1, decision\n",
    "\n",
    "\n",
    "def first_nonzero(values, axis=1):\n",
    "    \"\"\"\n",
    "    Возвращает первый ненулевой элемент.\n",
    "    Если таких нет, то возвращает 0.\n",
    "\n",
    "    values -- двумерная матрица значений.\n",
    "    axis -- ось, по которой производятся операции.\n",
    "    \"\"\"\n",
    "\n",
    "    # Маска ненулевых элементов\n",
    "    mask = values != 0\n",
    "    # Индекс первого ненулевого элемента, если он есть.\n",
    "    # Если его нет, то все нули, и возвращаем любой индекс, например, 0.\n",
    "    first_nonzero_ind = np.where(mask.any(axis=axis), mask.argmax(axis=axis), 0)\n",
    "    # Берем соответствующие элементы\n",
    "    first_nonzero_values = values[range(values.shape[0]), first_nonzero_ind]\n",
    "\n",
    "    return first_nonzero_ind, first_nonzero_values\n",
    "\n",
    "def kl_norm(mean0, mean1, var0, var1):\n",
    "    return 0.5 * (\n",
    "        var0 / var1 + (mean1 - mean0) ** 2 / var1 - 1 + np.log(var1 / var0)\n",
    "    )\n",
    "\n",
    "\n",
    "def w(x, y):\n",
    "    return x * np.log(x / (1 - y)) + (1 - x) * np.log((1 - x) / y)\n",
    "\n",
    "def get_sample_size(alpha, beta, mde, var_x, var_y):\n",
    "    \"\"\"Расчитывает размер выборки для детектирование MDE\n",
    "\n",
    "    :param alpha: желаемая ошибка первого рода\n",
    "    :param beta: желаемая мощность\n",
    "    :param mde: необходимый эффект\n",
    "    :param var_x, var_y: дисперсии выборок\n",
    "    :returns: необходимый размер выборки\n",
    "    \"\"\"\n",
    "\n",
    "    q_sum = sps.norm.ppf(1 - alpha) + sps.norm.ppf(beta)\n",
    "    return np.ceil((q_sum**2) * (var_x + var_y) / (mde * mde)).astype(int)"
   ]
  },
  {
   "cell_type": "markdown",
   "metadata": {},
   "source": [
    "Константы"
   ]
  },
  {
   "cell_type": "code",
   "execution_count": 62,
   "metadata": {
    "execution": {
     "iopub.execute_input": "2025-03-24T10:30:03.485817Z",
     "iopub.status.busy": "2025-03-24T10:30:03.484951Z",
     "iopub.status.idle": "2025-03-24T10:30:03.498416Z",
     "shell.execute_reply": "2025-03-24T10:30:03.496895Z",
     "shell.execute_reply.started": "2025-03-24T10:30:03.485744Z"
    }
   },
   "outputs": [],
   "source": [
    "alpha = 0.05\n",
    "beta = 0.2\n",
    "scale = 1.0\n",
    "mu0 = 0\n",
    "mu1 = 0.25\n",
    "\n",
    "A = beta / (1 - alpha)\n",
    "B = (1 - beta) / alpha\n",
    "\n",
    "sample_count = 50000  # Количество выборок\n",
    "sample_size = 70  # Общий размер выборок\n",
    "\n",
    "sequential_wald_normal = lambda samples: sequential_wald(\n",
    "    samples,\n",
    "    sps.norm(loc=mu0, scale=scale).logpdf,\n",
    "    sps.norm(loc=mu1, scale=scale).logpdf,\n",
    "    A,\n",
    "    B,\n",
    "    return_z=True,\n",
    ")"
   ]
  },
  {
   "cell_type": "markdown",
   "metadata": {},
   "source": [
    "Время до принятия решений на практике"
   ]
  },
  {
   "cell_type": "code",
   "execution_count": 63,
   "metadata": {
    "execution": {
     "iopub.execute_input": "2025-03-24T10:30:03.791448Z",
     "iopub.status.busy": "2025-03-24T10:30:03.790245Z",
     "iopub.status.idle": "2025-03-24T10:30:04.397331Z",
     "shell.execute_reply": "2025-03-24T10:30:04.396749Z",
     "shell.execute_reply.started": "2025-03-24T10:30:03.791355Z"
    }
   },
   "outputs": [
    {
     "name": "stdout",
     "output_type": "stream",
     "text": [
      "E_0[tau]: 39.1\n",
      "E_1[tau]: 51.3\n"
     ]
    }
   ],
   "source": [
    "samples_h0 = np.random.normal(mu0, scale, (sample_count, sample_size))\n",
    "samples_h1 = np.random.normal(mu1, scale, (sample_count, sample_size))\n",
    "\n",
    "\n",
    "stop_times_h0, decision_h0, z_h0 = sequential_wald_normal(samples_h0)\n",
    "stop_times_h1, decision_h1, z_h1 = sequential_wald_normal(samples_h1)\n",
    "\n",
    "print(f\"E_0[tau]: {np.mean(stop_times_h0):.1f}\")\n",
    "print(f\"E_1[tau]: {np.mean(stop_times_h1):.1f}\")"
   ]
  },
  {
   "cell_type": "markdown",
   "metadata": {},
   "source": [
    "Теоретические значения"
   ]
  },
  {
   "cell_type": "code",
   "execution_count": 64,
   "metadata": {
    "execution": {
     "iopub.execute_input": "2025-03-24T10:30:04.785723Z",
     "iopub.status.busy": "2025-03-24T10:30:04.785408Z",
     "iopub.status.idle": "2025-03-24T10:30:04.790152Z",
     "shell.execute_reply": "2025-03-24T10:30:04.789534Z",
     "shell.execute_reply.started": "2025-03-24T10:30:04.785695Z"
    }
   },
   "outputs": [
    {
     "name": "stdout",
     "output_type": "stream",
     "text": [
      "E_0[tau] (theory): 42.9\n",
      "E_1[tau] (theory): 61.0\n"
     ]
    }
   ],
   "source": [
    "theor_time_h0 = w(alpha, beta) / kl_norm(mu0, mu1, scale**2, scale**2)\n",
    "theor_time_h1 = w(beta, alpha) / kl_norm(mu1, mu0, scale**2, scale**2)\n",
    "\n",
    "print(f\"E_0[tau] (theory): {theor_time_h0:.1f}\")\n",
    "print(f\"E_1[tau] (theory): {theor_time_h1:.1f}\")"
   ]
  },
  {
   "cell_type": "markdown",
   "metadata": {},
   "source": [
    "Теория подтверждается практикой - предсказанные и реальные значения близки. Кроме того, я еще для H1 посчитал, и тут тоже все ок"
   ]
  },
  {
   "cell_type": "markdown",
   "metadata": {},
   "source": [
    "**2.** Давай разберемся, можно ли совмещать два подхода &mdash; обычную процедуру проверки гипотез с критерием t-test и процедуру последовательного анализа с критерием Вальда. Для этого построим следующий критерий. Зафиксируем число $n$. До тех пор, пока размер выборки меньше $n$, будем пользоваться последовательным анализом и останавливать нашу процедуру в случае принятия одной из гипотез. Когда в выборке станет ровно $n$ объектов, а процедура последовательного анализа еще не завершилась, остановим ее и применим обычный t-test. Цель &mdash; оценить вероятность ошибки 1 рода у такой комбинации процедур.\n",
    "\n",
    "*Указание.* Удобнее сразу сгенерировать выборки размера $n$, применить оба критерия независимо, а затем для наглядности построить <a href=\"https://miptstats.github.io/courses/python/10_pandas2.html#4.1-Функция-pd.crosstab\">crosstab</a> по ответам каждого критерия, из нее уже можно получить ответ на вопрос задачи."
   ]
  },
  {
   "cell_type": "code",
   "execution_count": 83,
   "metadata": {
    "execution": {
     "iopub.execute_input": "2025-03-24T10:40:11.520927Z",
     "iopub.status.busy": "2025-03-24T10:40:11.520706Z",
     "iopub.status.idle": "2025-03-24T10:40:11.568727Z",
     "shell.execute_reply": "2025-03-24T10:40:11.568159Z",
     "shell.execute_reply.started": "2025-03-24T10:40:11.520909Z"
    }
   },
   "outputs": [
    {
     "name": "stdout",
     "output_type": "stream",
     "text": [
      "Общая вероятность ошибки I рода: 0.0365\n",
      "\n",
      "Кросс-таблица решений:\n"
     ]
    },
    {
     "data": {
      "text/html": [
       "<div>\n",
       "<style scoped>\n",
       "    .dataframe tbody tr th:only-of-type {\n",
       "        vertical-align: middle;\n",
       "    }\n",
       "\n",
       "    .dataframe tbody tr th {\n",
       "        vertical-align: top;\n",
       "    }\n",
       "\n",
       "    .dataframe thead th {\n",
       "        text-align: right;\n",
       "    }\n",
       "</style>\n",
       "<table border=\"1\" class=\"dataframe\">\n",
       "  <thead>\n",
       "    <tr style=\"text-align: right;\">\n",
       "      <th>T-test</th>\n",
       "      <th>-1</th>\n",
       "      <th>0</th>\n",
       "      <th>1</th>\n",
       "      <th>All</th>\n",
       "    </tr>\n",
       "    <tr>\n",
       "      <th>Wald</th>\n",
       "      <th></th>\n",
       "      <th></th>\n",
       "      <th></th>\n",
       "      <th></th>\n",
       "    </tr>\n",
       "  </thead>\n",
       "  <tbody>\n",
       "    <tr>\n",
       "      <th>0</th>\n",
       "      <td>38149</td>\n",
       "      <td>10027</td>\n",
       "      <td>492</td>\n",
       "      <td>48668</td>\n",
       "    </tr>\n",
       "    <tr>\n",
       "      <th>1</th>\n",
       "      <td>1332</td>\n",
       "      <td>0</td>\n",
       "      <td>0</td>\n",
       "      <td>1332</td>\n",
       "    </tr>\n",
       "    <tr>\n",
       "      <th>All</th>\n",
       "      <td>39481</td>\n",
       "      <td>10027</td>\n",
       "      <td>492</td>\n",
       "      <td>50000</td>\n",
       "    </tr>\n",
       "  </tbody>\n",
       "</table>\n",
       "</div>"
      ],
      "text/plain": [
       "T-test     -1      0    1    All\n",
       "Wald                            \n",
       "0       38149  10027  492  48668\n",
       "1        1332      0    0   1332\n",
       "All     39481  10027  492  50000"
      ]
     },
     "execution_count": 83,
     "metadata": {},
     "output_type": "execute_result"
    }
   ],
   "source": [
    "mask_ttest = (stop_times_h0 == sample_size + 1)\n",
    "\n",
    "_, p_values = sps.ttest_1samp(samples_h0[mask_ttest], popmean=mu0, axis=1)\n",
    "decisions_ttest = (p_values < alpha).astype(int)\n",
    "\n",
    "full_ttest_decisions = np.full(sample_count, -1)\n",
    "full_ttest_decisions[mask_ttest] = decisions_ttest\n",
    "\n",
    "df = pd.DataFrame({\n",
    "    'Wald_decision': (decision_h0 == 1).astype(int),\n",
    "    'Ttest_decision': full_ttest_decisions\n",
    "})\n",
    "cross_tab = pd.crosstab(\n",
    "    df['Wald_decision'], \n",
    "    df['Ttest_decision'], \n",
    "    rownames=['Wald'], \n",
    "    colnames=['T-test'],\n",
    "    margins=True\n",
    ")\n",
    "\n",
    "full_ttest_decisions[~mask_ttest] = (decision_h0 == 1).astype(int)[~mask_ttest]\n",
    "\n",
    "print(f\"Общая вероятность ошибки I рода: {combined_decisions.mean():.4f}\")\n",
    "print(\"\\nКросс-таблица решений:\")\n",
    "cross_tab"
   ]
  },
  {
   "cell_type": "markdown",
   "metadata": {},
   "source": [
    "T-test повышает ошибку первого рода, но в этой реализация ошибка Вальда меньше 5%, и общая ошибка все равно меньше 5%"
   ]
  },
  {
   "cell_type": "markdown",
   "metadata": {},
   "source": [
    "Повтори эту процедуру для нескольких $n$ и визуализируй зависимость. \n",
    "Не забудь сделать вывод."
   ]
  },
  {
   "cell_type": "code",
   "execution_count": 122,
   "metadata": {
    "execution": {
     "iopub.execute_input": "2025-03-24T10:54:59.083032Z",
     "iopub.status.busy": "2025-03-24T10:54:59.082203Z",
     "iopub.status.idle": "2025-03-24T10:55:09.911430Z",
     "shell.execute_reply": "2025-03-24T10:55:09.910620Z",
     "shell.execute_reply.started": "2025-03-24T10:54:59.082957Z"
    }
   },
   "outputs": [],
   "source": [
    "n_values = np.arange(5, 550, 40)\n",
    "sample_count = 10000\n",
    "results = []\n",
    "\n",
    "for n in n_values:\n",
    "    samples_h0 = np.random.normal(mu0, sigma, (sample_count, n))\n",
    "    \n",
    "    stop_times_h0, decision_h0, _ = sequential_wald_normal(samples_h0)\n",
    "    decision_h0 = (decision_h0 == 1).astype(int)\n",
    "    \n",
    "    mask_ttest = (stop_times_h0 == n)\n",
    "    \n",
    "    _, p_values = sps.ttest_1samp(samples_h0[mask_ttest], popmean=mu0, axis=1)\n",
    "    decisions_ttest = (p_values < alpha).astype(int)\n",
    "    \n",
    "    combined_decisions = np.zeros(sample_count, dtype=int)\n",
    "    combined_decisions[~mask_ttest] = decision_h0[~mask_ttest]\n",
    "    combined_decisions[mask_ttest] = decisions_ttest\n",
    "    \n",
    "    error_rate = combined_decisions.mean()\n",
    "    results.append((n, error_rate))"
   ]
  },
  {
   "cell_type": "markdown",
   "metadata": {},
   "source": [
    "Изобразим"
   ]
  },
  {
   "cell_type": "code",
   "execution_count": 123,
   "metadata": {
    "execution": {
     "iopub.execute_input": "2025-03-24T10:55:16.068070Z",
     "iopub.status.busy": "2025-03-24T10:55:16.066718Z",
     "iopub.status.idle": "2025-03-24T10:55:16.279495Z",
     "shell.execute_reply": "2025-03-24T10:55:16.278577Z",
     "shell.execute_reply.started": "2025-03-24T10:55:16.068021Z"
    }
   },
   "outputs": [
    {
     "data": {
      "image/png": "[encoded data removed]",
      "text/plain": [
       "<Figure size 1000x600 with 1 Axes>"
      ]
     },
     "metadata": {},
     "output_type": "display_data"
    }
   ],
   "source": [
    "results = np.array(results)\n",
    "plt.figure(figsize=(10, 6))\n",
    "plt.plot(results[:, 0], results[:, -1], 'o-', label='Ошибка I рода')\n",
    "plt.axhline(y=alpha, color='r', linestyle='--', label='Ограничение a=0.05')\n",
    "plt.xlabel('Размер выборки (n)')\n",
    "plt.ylabel('Вероятность ошибки I рода')\n",
    "plt.title('Зависимость ошибки I рода от размера выборки')\n",
    "plt.legend()\n",
    "plt.grid(True)\n",
    "plt.show()"
   ]
  },
  {
   "cell_type": "markdown",
   "metadata": {},
   "source": [
    "Посмотрим внимательно на сводную таблицу отвержений при большой выборке"
   ]
  },
  {
   "cell_type": "code",
   "execution_count": 126,
   "metadata": {
    "execution": {
     "iopub.execute_input": "2025-03-24T10:57:27.233817Z",
     "iopub.status.busy": "2025-03-24T10:57:27.233486Z",
     "iopub.status.idle": "2025-03-24T10:57:27.272153Z",
     "shell.execute_reply": "2025-03-24T10:57:27.271471Z",
     "shell.execute_reply.started": "2025-03-24T10:57:27.233790Z"
    }
   },
   "outputs": [
    {
     "name": "stdout",
     "output_type": "stream",
     "text": [
      "Общая вероятность ошибки I рода: 0.0460\n",
      "\n",
      "Кросс-таблица решений:\n"
     ]
    },
    {
     "data": {
      "text/html": [
       "<div>\n",
       "<style scoped>\n",
       "    .dataframe tbody tr th:only-of-type {\n",
       "        vertical-align: middle;\n",
       "    }\n",
       "\n",
       "    .dataframe tbody tr th {\n",
       "        vertical-align: top;\n",
       "    }\n",
       "\n",
       "    .dataframe thead th {\n",
       "        text-align: right;\n",
       "    }\n",
       "</style>\n",
       "<table border=\"1\" class=\"dataframe\">\n",
       "  <thead>\n",
       "    <tr style=\"text-align: right;\">\n",
       "      <th>T-test</th>\n",
       "      <th>-1</th>\n",
       "      <th>0</th>\n",
       "      <th>1</th>\n",
       "      <th>All</th>\n",
       "    </tr>\n",
       "    <tr>\n",
       "      <th>Wald</th>\n",
       "      <th></th>\n",
       "      <th></th>\n",
       "      <th></th>\n",
       "      <th></th>\n",
       "    </tr>\n",
       "  </thead>\n",
       "  <tbody>\n",
       "    <tr>\n",
       "      <th>0</th>\n",
       "      <td>9488</td>\n",
       "      <td>49</td>\n",
       "      <td>3</td>\n",
       "      <td>9540</td>\n",
       "    </tr>\n",
       "    <tr>\n",
       "      <th>1</th>\n",
       "      <td>458</td>\n",
       "      <td>1</td>\n",
       "      <td>1</td>\n",
       "      <td>460</td>\n",
       "    </tr>\n",
       "    <tr>\n",
       "      <th>All</th>\n",
       "      <td>9946</td>\n",
       "      <td>50</td>\n",
       "      <td>4</td>\n",
       "      <td>10000</td>\n",
       "    </tr>\n",
       "  </tbody>\n",
       "</table>\n",
       "</div>"
      ],
      "text/plain": [
       "T-test    -1   0  1    All\n",
       "Wald                      \n",
       "0       9488  49  3   9540\n",
       "1        458   1  1    460\n",
       "All     9946  50  4  10000"
      ]
     },
     "execution_count": 126,
     "metadata": {},
     "output_type": "execute_result"
    }
   ],
   "source": [
    "mask_ttest = (stop_times_h0 == sample_size + 1)\n",
    "\n",
    "_, p_values = sps.ttest_1samp(samples_h0[mask_ttest], popmean=mu0, axis=1)\n",
    "decisions_ttest = (p_values < alpha).astype(int)\n",
    "\n",
    "full_ttest_decisions = np.full(sample_count, -1)\n",
    "full_ttest_decisions[mask_ttest] = decisions_ttest\n",
    "\n",
    "df = pd.DataFrame({\n",
    "    'Wald_decision': (decision_h0 == 1).astype(int),\n",
    "    'Ttest_decision': full_ttest_decisions\n",
    "})\n",
    "cross_tab = pd.crosstab(\n",
    "    df['Wald_decision'], \n",
    "    df['Ttest_decision'], \n",
    "    rownames=['Wald'], \n",
    "    colnames=['T-test'],\n",
    "    margins=True\n",
    ")\n",
    "\n",
    "full_ttest_decisions[~mask_ttest] = (decision_h0 == 1).astype(int)[~mask_ttest]\n",
    "\n",
    "print(f\"Общая вероятность ошибки I рода: {combined_decisions.mean():.4f}\")\n",
    "print(\"\\nКросс-таблица решений:\")\n",
    "cross_tab"
   ]
  },
  {
   "cell_type": "markdown",
   "metadata": {},
   "source": [
    "Те t-test почти не принимает решений об отвергании H0, почти вся нагрузка на отвержения только на Вальда -> поэтому мы все равно остаемся на практике в рамках 5%. "
   ]
  },
  {
   "cell_type": "markdown",
   "metadata": {},
   "source": [
    "**3.** Теперь поймем, какая процедура мощнее. На занятии мы установили \"стандартные\" параметры. Возьми размер выборки $n$, который дает мощность 80% по формуле MDE для стандартного t-test. Промоделируй выборки при справедливости $\\mathsf{H}_1$ и посчитай долю случаев, в которых процедура последовательного анализа принимает $\\mathsf{H}_1$ до момента времени $n$ включительно. Сделай вывод относительно мощности исследуемых процедур.\n",
    "\n",
    "*Не забывай указания предыдущих пунктов и про код с занятия.*"
   ]
  },
  {
   "cell_type": "markdown",
   "metadata": {},
   "source": [
    "Размер выборки (тест одновыборочный)"
   ]
  },
  {
   "cell_type": "code",
   "execution_count": 175,
   "metadata": {
    "execution": {
     "iopub.execute_input": "2025-03-24T11:26:19.351865Z",
     "iopub.status.busy": "2025-03-24T11:26:19.351643Z",
     "iopub.status.idle": "2025-03-24T11:26:19.357513Z",
     "shell.execute_reply": "2025-03-24T11:26:19.356768Z",
     "shell.execute_reply.started": "2025-03-24T11:26:19.351846Z"
    }
   },
   "outputs": [
    {
     "data": {
      "text/plain": [
       "126"
      ]
     },
     "execution_count": 175,
     "metadata": {},
     "output_type": "execute_result"
    }
   ],
   "source": [
    "z_alpha = sps.norm.ppf(1 - alpha/2)\n",
    "z_beta = sps.norm.ppf(0.8)\n",
    "sample_size = ((z_alpha + z_beta)**2 * scale ** 2) / ((mu1-mu0)**2)\n",
    "sample_size = int(np.ceil(sample_size))\n",
    "sample_size"
   ]
  },
  {
   "cell_type": "markdown",
   "metadata": {},
   "source": [
    "Далее оценим мощности "
   ]
  },
  {
   "cell_type": "code",
   "execution_count": 176,
   "metadata": {
    "execution": {
     "iopub.execute_input": "2025-03-24T11:26:19.635387Z",
     "iopub.status.busy": "2025-03-24T11:26:19.634846Z",
     "iopub.status.idle": "2025-03-24T11:26:19.764412Z",
     "shell.execute_reply": "2025-03-24T11:26:19.763710Z",
     "shell.execute_reply.started": "2025-03-24T11:26:19.635364Z"
    }
   },
   "outputs": [
    {
     "name": "stdout",
     "output_type": "stream",
     "text": [
      "Вальд: 0.73\n",
      "Т-тест: 0.79\n"
     ]
    }
   ],
   "source": [
    "sample_count = 10000\n",
    "samples_h1 = np.random.normal(mu1, scale, (sample_count, sample_size))\n",
    "decision_h1_wald = (sequential_wald_normal(samples_h1)[1] == 1).astype(int)\n",
    "_, p_values = sps.ttest_1samp(samples_h1, popmean=mu0, axis=1)\n",
    "decision_h1_ttest = (p_values < alpha).astype(int)\n",
    "\n",
    "print(f\"Вальд: {np.mean(decision_h1_wald):.2f}\")\n",
    "print(f\"Т-тест: {np.mean(decision_h1_ttest):.2f}\")"
   ]
  },
  {
   "cell_type": "markdown",
   "metadata": {},
   "source": [
    "В целом ожидаемо - Вальд может принимать решение не по всей выборке, а только по ее подмножеству, поэтому мощность чуть ниже"
   ]
  },
  {
   "cell_type": "code",
   "execution_count": 177,
   "metadata": {
    "execution": {
     "iopub.execute_input": "2025-03-24T11:27:05.902638Z",
     "iopub.status.busy": "2025-03-24T11:27:05.902022Z",
     "iopub.status.idle": "2025-03-24T11:27:06.000014Z",
     "shell.execute_reply": "2025-03-24T11:27:05.999343Z",
     "shell.execute_reply.started": "2025-03-24T11:27:05.902607Z"
    }
   },
   "outputs": [
    {
     "data": {
      "text/plain": [
       "0.1072"
      ]
     },
     "execution_count": 177,
     "metadata": {},
     "output_type": "execute_result"
    }
   ],
   "source": [
    "np.mean(sequential_wald_normal(samples_h1)[0] == sample_size + 1)"
   ]
  },
  {
   "cell_type": "markdown",
   "metadata": {},
   "source": [
    "То есть в 90% случаев Вальд остановился по пути, а в 10% случаев решение не было принято"
   ]
  },
  {
   "cell_type": "markdown",
   "metadata": {},
   "source": [
    "**4.** На практике наблюдения могут приходить батчами по несколько объектов сразу. В таком случае нельзя устанавливать на них какой-либо порядок, применяя последовательный критерий Вальда по одному, необходимо добавлять сразу весь батч.\n",
    "\n",
    "Исследуй, как меняется мощность процедуры последовательного анализа в зависимость от количества объектов в батче.\n",
    "\n",
    "*Ты же понимаешь, что надо взять код из предыдущего пункта и указать один параметр?*"
   ]
  },
  {
   "cell_type": "code",
   "execution_count": 188,
   "metadata": {
    "execution": {
     "iopub.execute_input": "2025-03-24T11:46:45.866271Z",
     "iopub.status.busy": "2025-03-24T11:46:45.864676Z",
     "iopub.status.idle": "2025-03-24T11:46:45.902519Z",
     "shell.execute_reply": "2025-03-24T11:46:45.899627Z",
     "shell.execute_reply.started": "2025-03-24T11:46:45.866176Z"
    }
   },
   "outputs": [],
   "source": [
    "def batch_calculate_stat(samples, batch_size, logpdf_0, logpdf_1, cumulative=False):\n",
    "    reshaped = samples.reshape(samples.shape[0], -1, batch_size)\n",
    "   \n",
    "    batch_stats = logpdf_1(reshaped) - logpdf_0(reshaped)\n",
    "    batch_stats = np.sum(batch_stats, axis=2)\n",
    "            \n",
    "    if cumulative:\n",
    "        return np.cumsum(batch_stats, axis=1)\n",
    "    return batch_stats\n",
    "\n",
    "def batch_sequential_wald(samples, batch_size, logpdf_0, logpdf_1, A, B):\n",
    "    z_stats = batch_calculate_stat(samples, batch_size, logpdf_0, logpdf_1, cumulative=True)\n",
    "            \n",
    "    signs = (\n",
    "        (z_stats >= np.log(B)).astype(int) - \n",
    "        (z_stats <= np.log(A)).astype(int)\n",
    "    )\n",
    "            \n",
    "    stop_time, decision = first_nonzero(signs)\n",
    "    stop_time[decision == 0] = z_stats.shape[1]\n",
    "    return (stop_time + 1) * batch_size, decision\n",
    "\n",
    "def simulate_batch_power(batch_sizes, n_simulations=10000,\n",
    "                         alpha=0.05, beta=0.2, delta=0.25,\n",
    "                         max_samples=50):\n",
    "    \"\"\"Исследует зависимость мощности от размера батча.\"\"\"\n",
    "    mu0, mu1 = 0, delta\n",
    "    scale = 1.0\n",
    "    \n",
    "    def logpdf_0(x):\n",
    "        return sps.norm.logpdf(x, loc=mu0, scale=scale)\n",
    "    \n",
    "    def logpdf_1(x):\n",
    "        return sps.norm.logpdf(x, loc=mu1, scale=scale)\n",
    "    \n",
    "    A = beta / (1 - alpha)\n",
    "    B = (1 - beta) / alpha\n",
    "    \n",
    "    results = []\n",
    "    \n",
    "    for batch_size in batch_sizes:\n",
    "        n_batches = max_samples // batch_size\n",
    "        samples = np.random.normal(mu1, scale, (n_simulations, n_batches * batch_size))\n",
    "        \n",
    "        stop_times, decisions = batch_sequential_wald(samples, batch_size,\n",
    "                                                      logpdf_0, logpdf_1, A, B)\n",
    "        power = np.mean(decisions == 1)\n",
    "        \n",
    "        results.append({\n",
    "            'batch_size': batch_size,\n",
    "            'power': power,\n",
    "        })\n",
    "    \n",
    "    return pd.DataFrame(results)"
   ]
  },
  {
   "cell_type": "markdown",
   "metadata": {},
   "source": [
    "Итак"
   ]
  },
  {
   "cell_type": "code",
   "execution_count": 190,
   "metadata": {
    "execution": {
     "iopub.execute_input": "2025-03-24T11:47:11.376270Z",
     "iopub.status.busy": "2025-03-24T11:47:11.375280Z",
     "iopub.status.idle": "2025-03-24T11:47:12.038389Z",
     "shell.execute_reply": "2025-03-24T11:47:12.037534Z",
     "shell.execute_reply.started": "2025-03-24T11:47:11.376219Z"
    }
   },
   "outputs": [
    {
     "data": {
      "image/png": "[encoded data removed]",
      "text/plain": [
       "<Figure size 1200x500 with 1 Axes>"
      ]
     },
     "metadata": {},
     "output_type": "display_data"
    }
   ],
   "source": [
    "batch_sizes = np.arange(1, 40, 5)\n",
    "results = simulate_batch_power(batch_sizes)\n",
    "\n",
    "plt.figure(figsize=(12, 5))\n",
    "plt.plot(results['batch_size'], results['power'], 'o-')\n",
    "plt.xlabel('Размер батча')\n",
    "plt.ylabel('Мощность')\n",
    "plt.title('Зависимость мощности от размера батча')\n",
    "plt.grid(True)\n",
    "plt.tight_layout()\n",
    "plt.show()"
   ]
  },
  {
   "cell_type": "markdown",
   "metadata": {},
   "source": [
    "Мощность уменьшается. Логично -> опять, у Вальда меньше данных для анализа. Исходный ряд мог пересечь полосу между соседними поступлениями батчей"
   ]
  },
  {
   "cell_type": "markdown",
   "metadata": {},
   "source": [
    "**5.** Наконец, давай вспомним, что последовательно приходящие данные не всегда являются выборкой, часто это временной ряд. Провалидируй процедуру последовательного анализа применительно к временным рядам.\n",
    "\n",
    "*На занятии был код генерации временных рядов, используй его. И, конечно, код предыдущих пунктов задачи*."
   ]
  },
  {
   "cell_type": "code",
   "execution_count": 205,
   "metadata": {
    "execution": {
     "iopub.execute_input": "2025-03-24T12:14:09.698020Z",
     "iopub.status.busy": "2025-03-24T12:14:09.697647Z",
     "iopub.status.idle": "2025-03-24T12:14:09.727529Z",
     "shell.execute_reply": "2025-03-24T12:14:09.726070Z",
     "shell.execute_reply.started": "2025-03-24T12:14:09.697986Z"
    }
   },
   "outputs": [],
   "source": [
    "import numpy as np\n",
    "import pandas as pd\n",
    "import scipy.stats as sps\n",
    "import statsmodels.stats.proportion as smp\n",
    "import matplotlib.pyplot as plt\n",
    "import seaborn as sns\n",
    "\n",
    "def sequential_wald_one_sample(sample, logpdf_0, logpdf_1, A, B):\n",
    "    \"\"\"\n",
    "    Реализация последовательного критерия Вальда для одной выборки.\n",
    "\n",
    "    sample - одномерный массив наблюдений\n",
    "    logpdf_0 - функция вычисления логарифма плотности при H_0\n",
    "    logpdf_1 - функция вычисления логарифма плотности при H_1\n",
    "    A, B -- пороги остановки (A < 1 < B)\n",
    "    \"\"\"\n",
    "    \n",
    "    log_likelihood_ratio = np.cumsum(logpdf_1(sample) - logpdf_0(sample))\n",
    "    \n",
    "    for i, stat in enumerate(log_likelihood_ratio):\n",
    "        if stat >= np.log(B):\n",
    "            return i + 1, 1  # Принятие H1\n",
    "        elif stat <= np.log(A):\n",
    "            return i + 1, 0  # Принятие H0\n",
    "    \n",
    "    return len(sample), -1  # Недостаточно данных для решения\n",
    "\n",
    "def validate_wald(test_runs=1000, sample_size=50, time_size=10,\n",
    "                  effect=0.05, A=0.05, B=20):\n",
    "    \"\"\"\n",
    "    Валидация критерия Вальда: считаем количество принятий H0 и H1.\n",
    "    \n",
    "    test_runs - количество экспериментов\n",
    "    sample_size - количество магазинов\n",
    "    time_size - количество недель\n",
    "    effect - добавляемый эффект при H1\n",
    "    A, B - пороги Вальда\n",
    "    \"\"\"\n",
    "    h0_results = []\n",
    "    h1_results = []\n",
    "    \n",
    "    for _ in tqdm(range(test_runs), leave=False):\n",
    "        test_data, control_data = generate_2_time_series(sample_size, time_size)\n",
    "        \n",
    "        shape, loc, scale = sps.gamma.fit(control_data['value'])\n",
    "        control_logpdf = lambda x: sps.gamma.logpdf(x, shape, loc, scale)\n",
    "        \n",
    "        h0_decision = sequential_wald_one_sample(test_data['value'],\n",
    "                                                 control_logpdf,\n",
    "                                                 control_logpdf,\n",
    "                                                 A, B)[1]\n",
    "        h0_results.append(h0_decision)\n",
    "        \n",
    "        test_data = add_effect(test_data, effect, target_name='value')\n",
    "        shape_t, loc_t, scale_t = sps.gamma.fit(test_data['value'])\n",
    "        test_logpdf = lambda x: sps.gamma.logpdf(x, shape_t, loc_t, scale_t)\n",
    "        \n",
    "        h1_decision = sequential_wald_one_sample(test_data['value'],\n",
    "                                                 control_logpdf,\n",
    "                                                 test_logpdf,\n",
    "                                                 A, B)[1]\n",
    "        h1_results.append(h1_decision)\n",
    "    \n",
    "    \n",
    "    return h0_results, h1_results\n",
    "\n",
    "def estimate_reject_prob(n_rejects, n_iter):\n",
    "    \"\"\"\n",
    "    Оценка вероятности отвержения критерия и ее доверительного интервала.\n",
    "    \"\"\"\n",
    "    prob_reject = n_rejects / n_iter\n",
    "    left_bound, right_bound = smp.proportion_confint(n_rejects,\n",
    "                                                     n_iter,\n",
    "                                                     method=\"wilson\")\n",
    "    return prob_reject, left_bound, right_bound\n",
    "\n",
    "def visualization(prob_reject, left_bound, right_bound,\n",
    "                  alpha=0.05, figsize=(10, 5), title=None):\n",
    "    \"\"\"\n",
    "    Отрисовка интервала для вероятности отвержения критерия.\n",
    "    \"\"\"\n",
    "    with sns.axes_style(\"whitegrid\"):\n",
    "        plt.figure(figsize=figsize)\n",
    "        plt.hlines(0, 0, 1, color=\"black\", lw=2, alpha=0.6)\n",
    "        plt.vlines(alpha, -1, 1, color=\"red\", lw=5, linestyle=\"--\", alpha=0.6)\n",
    "        plt.fill_between([left_bound, right_bound], [0.15] * 2, [-0.15] * 2, color=\"green\", alpha=0.6)\n",
    "        plt.scatter(prob_reject, 0, s=300, marker=\"*\", color=\"red\")\n",
    "        plt.xlim((min(alpha, left_bound) - 1e-3, max(alpha, right_bound) + 1e-3))\n",
    "        plt.title(f\"Доля отвержений = {100*prob_reject:.2f}%, \"\n",
    "                  f\"интервал ({100*left_bound:.2f}%, {100*right_bound:.2f}%)\")\n",
    "        plt.suptitle(title)\n",
    "        plt.ylim((-0.5, 0.5))\n",
    "        plt.yticks([])\n",
    "        plt.tight_layout()\n",
    "        plt.show()"
   ]
  },
  {
   "cell_type": "markdown",
   "metadata": {},
   "source": [
    "Запуск"
   ]
  },
  {
   "cell_type": "code",
   "execution_count": 206,
   "metadata": {
    "execution": {
     "iopub.execute_input": "2025-03-24T12:14:09.985058Z",
     "iopub.status.busy": "2025-03-24T12:14:09.984309Z",
     "iopub.status.idle": "2025-03-24T12:14:30.971273Z",
     "shell.execute_reply": "2025-03-24T12:14:30.970276Z",
     "shell.execute_reply.started": "2025-03-24T12:14:09.985001Z"
    }
   },
   "outputs": [
    {
     "data": {
      "application/vnd.jupyter.widget-view+json": {
       "model_id": "",
       "version_major": 2,
       "version_minor": 0
      },
      "text/plain": [
       "  0%|          | 0/100 [00:00<?, ?it/s]"
      ]
     },
     "metadata": {},
     "output_type": "display_data"
    },
    {
     "data": {
      "image/png": "[encoded data removed]",
      "text/plain": [
       "<Figure size 1000x500 with 1 Axes>"
      ]
     },
     "metadata": {},
     "output_type": "display_data"
    },
    {
     "data": {
      "image/png": "[encoded data removed]",
      "text/plain": [
       "<Figure size 1000x500 with 1 Axes>"
      ]
     },
     "metadata": {},
     "output_type": "display_data"
    }
   ],
   "source": [
    "test_runs = 100\n",
    "sample_size = 1\n",
    "time_size = 10\n",
    "effect = 0.01\n",
    "A = 0.05\n",
    "B = 20\n",
    "\n",
    "h0_results, h1_results = validate_wald(test_runs, sample_size, time_size, effect, A, B)\n",
    "\n",
    "alpha_hat, alpha_left, alpha_right = estimate_reject_prob(h0_results.count(1),\n",
    "                                                          test_runs)\n",
    "beta_hat, beta_left, beta_right = estimate_reject_prob(h1_results.count(0),\n",
    "                                                       test_runs)\n",
    "\n",
    "visualization(alpha_hat, alpha_left, alpha_right,\n",
    "              alpha=0.05, title=\"Ошибка первого рода\")\n",
    "\n",
    "visualization(1 - beta_hat, 1 - beta_right,\n",
    "              1 - beta_left, alpha=0.8, title=\"Мощность теста\")\n"
   ]
  },
  {
   "cell_type": "markdown",
   "metadata": {},
   "source": [
    "**6.** Не забудь сделать выводы."
   ]
  },
  {
   "cell_type": "markdown",
   "metadata": {},
   "source": [
    "По предыдущему пункту:\n",
    "\n",
    "Все ок! Провалидировал на АА + оценил мощность на АБ - все хорошо\n",
    "\n",
    "Вальд хорош, когда мы хотим подглядывать и в случае чего раньше останавливать эксп - например, мы можем меньше терять на ухудшающих тестах (или просто словить поломку метрик), однако ему нужно подбирать пороги, подбирать распределения, он сложнее в реализации, может дать худшую мощность"
   ]
  },
  {
   "cell_type": "markdown",
   "metadata": {},
   "source": [
    "Вот и все, еще одно задание закончилось, вроде же хорошо мы вместе решили задачки, правда?)\n",
    "\n",
    "А теперь, как и раньше, все перепроверь, поработай над качеством оформления и отправляй боту. Не забудь покушать, и спокойной ночи!"
   ]
  },
  {
   "cell_type": "markdown",
   "metadata": {},
   "source": [
    "Пойду спать (уже 15:00) :("
   ]
  }
 ],
 "metadata": {
  "hide_input": false,
  "kernelspec": {
   "display_name": "Python 3 (ipykernel)",
   "language": "python",
   "name": "python3"
  },
  "language_info": {
   "codemirror_mode": {
    "name": "ipython",
    "version": 3
   },
   "file_extension": ".py",
   "mimetype": "text/x-python",
   "name": "python",
   "nbconvert_exporter": "python",
   "pygments_lexer": "ipython3",
   "version": "3.12.9"
  }
 },
 "nbformat": 4,
 "nbformat_minor": 4
}
